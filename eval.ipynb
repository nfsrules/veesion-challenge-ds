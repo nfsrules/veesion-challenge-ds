{
 "cells": [
  {
   "cell_type": "code",
   "execution_count": 1,
   "metadata": {},
   "outputs": [
    {
     "name": "stderr",
     "output_type": "stream",
     "text": [
      "/Users/nfsrules/Documents/veesion/challenge-veesion/challenge-veesion-venv/lib/python3.12/site-packages/tqdm/auto.py:21: TqdmWarning: IProgress not found. Please update jupyter and ipywidgets. See https://ipywidgets.readthedocs.io/en/stable/user_install.html\n",
      "  from .autonotebook import tqdm as notebook_tqdm\n"
     ]
    },
    {
     "name": "stdout",
     "output_type": "stream",
     "text": [
      "Summary: Number of unique videos: 45, Number of unique cameras: 45, Theft events: 1601, Non-theft events: 154336\n"
     ]
    }
   ],
   "source": [
    "import os\n",
    "\n",
    "from optimizer.io_utils import DataLoader\n",
    "from optimizer.viz_utils import save_fp_recall_plots\n",
    "\n",
    "data_path = os.path.join('data', \n",
    "                         'production_alerts_meta_data.csv'\n",
    "            )\n",
    "\n",
    "# Let's open the original dataframe.\n",
    "# This function extracts the camera_id's and maps the theft labels as theft and generates a binary 'is_theft' collumn.\n",
    "df = DataLoader(data_path, source_type=\"csv\").load()\n",
    "\n",
    "num_stores = df['store'].nunique()\n",
    "num_cameras = df.groupby(['store', 'camera_id']).ngroups\n",
    "num_theft_events = df['is_theft'].sum()\n",
    "num_non_theft_events = (df['is_theft'] == 0).sum()\n",
    "\n",
    "print(\n",
    "    f\"Summary: \"\n",
    "    f\"Number of unique videos: {num_stores}, \"\n",
    "    f\"Number of unique cameras: {num_cameras}, \"\n",
    "    f\"Theft events: {num_theft_events}, \"\n",
    "    f\"Non-theft events: {num_non_theft_events}\"\n",
    ")\n",
    "\n",
    "# Now let's export the FP = f(recall) plots for each pair store, camera.\n",
    "# For writting this function I've used sklearn's precision_recall_curve and tracked #FP\n",
    "# using (probability >= th).astype(int) and comparing to the 'true' value  'is_theft'.\n",
    "# The results are stored in 'plots/store_camera_id.png'\n",
    "#save_fp_recall_plots(df, output_dir=\"plots/\")"
   ]
  },
  {
   "cell_type": "code",
   "execution_count": 2,
   "metadata": {},
   "outputs": [],
   "source": []
  },
  {
   "cell_type": "code",
   "execution_count": 3,
   "metadata": {},
   "outputs": [],
   "source": []
  },
  {
   "cell_type": "code",
   "execution_count": 4,
   "metadata": {},
   "outputs": [
    {
     "data": {
      "text/plain": [
       "{'store': 'be-ad-1420-hugo-3',\n",
       " 'camera_id': 10,\n",
       " 'threshold': 0.22448979591836732,\n",
       " 'fp_saved': 509,\n",
       " 'tp_lost': 1}"
      ]
     },
     "execution_count": 4,
     "metadata": {},
     "output_type": "execute_result"
    }
   ],
   "source": [
    "cam"
   ]
  },
  {
   "cell_type": "code",
   "execution_count": 5,
   "metadata": {},
   "outputs": [],
   "source": []
  },
  {
   "cell_type": "code",
   "execution_count": 14,
   "metadata": {},
   "outputs": [
    {
     "name": "stdout",
     "output_type": "stream",
     "text": [
      "[be-ad-1420-hugo-3 | Camera 10] ✅ Evaluated | TP lost: 1, FP saved: 509\n",
      "[be-carr-1030-plasky-88 | Camera 6] ✅ Evaluated | TP lost: 0, FP saved: 4\n",
      "[be-carr-6000-waterloo-60 | Camera 13] ✅ Evaluated | TP lost: 0, FP saved: 106\n",
      "[be-inter-7500-eisenhower-14 | Camera 12] ✅ Evaluated | TP lost: 9, FP saved: 2982\n",
      "[be-proxy-1000-haute-221-227 | Camera 25] ✅ Evaluated | TP lost: 0, FP saved: 3\n",
      "[ci-ivoire-abidjan-98 | Camera 22] ✅ Evaluated | TP lost: 1, FP saved: 897\n",
      "[cz-dm-15000-plzenska-8 | Camera 6] ✅ Evaluated | TP lost: 24, FP saved: 6261\n",
      "[es-char-30161-mayor-199 | Camera 17] ✅ Evaluated | TP lost: 1, FP saved: 2058\n",
      "[es-char-46021-ros-16 | Camera 14] ✅ Evaluated | TP lost: 0, FP saved: 249\n",
      "[es-condis-08912-guifre-100 | Camera 7] ✅ Evaluated | TP lost: 0, FP saved: 113\n",
      "[es-mas-33207-aviles-6 | Camera 3] ✅ Evaluated | TP lost: 2, FP saved: 1011\n",
      "[es-spar-35480-alamo-1 | Camera 215] ✅ Evaluated | TP lost: 0, FP saved: 272\n",
      "[fr-carr-13001-canebiere-80 | Camera 7] ✅ Evaluated | TP lost: 5, FP saved: 1929\n",
      "[fr-carr-22560-chardons | Camera 12] ✅ Evaluated | TP lost: 0, FP saved: 41\n",
      "[fr-carr-61190-juchereau | Camera 11] ✅ Evaluated | TP lost: 8, FP saved: 2136\n",
      "[fr-carr-69530-gaulle-213 | Camera 9] ✅ Evaluated | TP lost: 0, FP saved: 16\n",
      "[fr-carr-76620-joliot-150 | Camera 1] ✅ Evaluated | TP lost: 6, FP saved: 2187\n",
      "[fr-carr-78440-paris-23 | Camera 11] ✅ Evaluated | TP lost: 0, FP saved: 2\n",
      "[fr-casino-40280-sever-600 | Camera 122] ✅ Evaluated | TP lost: 0, FP saved: 4\n",
      "[fr-fprix-92100-jaures-20 | Camera 4] ✅ Evaluated | TP lost: 0, FP saved: 2\n",
      "[fr-inter-38350-genepi-238 | Camera 163] ✅ Evaluated | TP lost: 11, FP saved: 12552\n",
      "[fr-inter-48500-lot | Camera 127] ✅ Evaluated | TP lost: 0, FP saved: 66\n",
      "[fr-inter-81120-bouriotte | Camera 121] ✅ Evaluated | TP lost: 0, FP saved: 2\n",
      "[fr-lecl-69009-buyer-90 | Camera 33] ✅ Evaluated | TP lost: 0, FP saved: 3\n",
      "[fr-leclerc-51120-troyes | Camera 17] ✅ Evaluated | TP lost: 0, FP saved: 420\n",
      "[fr-mr-brico-54300-ader-6 | Camera 19] ✅ Evaluated | TP lost: 1, FP saved: 1609\n",
      "[fr-sp2000-30100-hours-591 | Camera 49] ✅ Evaluated | TP lost: 1, FP saved: 1015\n",
      "[fr-u-83470-aix | Camera 59] ✅ Evaluated | TP lost: 7, FP saved: 2071\n",
      "[fr-vieclaire-38530-port-98 | Camera 61] ✅ Evaluated | TP lost: 0, FP saved: 192\n",
      "[gb-cost-se42ex-mantel | Camera 23] ✅ Evaluated | TP lost: 0, FP saved: 203\n",
      "[grocery-outlet-dt-san-jose | Camera 22] ✅ Evaluated | TP lost: 0, FP saved: 9269\n",
      "[it-euro-67051-tiburtina | Camera 3] ✅ Evaluated | TP lost: 0, FP saved: 0\n",
      "[leclerc-flourdis | Camera 114] ✅ Evaluated | TP lost: 10, FP saved: 2890\n",
      "[nl-jumbo-6843-plein-12 | Camera 1] ✅ Evaluated | TP lost: 2, FP saved: 608\n",
      "[pharma-alesia | Camera 8] ✅ Evaluated | TP lost: 21, FP saved: 6720\n",
      "[pt-ikea-2660001-setembro | Camera 185] ✅ Evaluated | TP lost: 0, FP saved: 358\n",
      "[pt-inter-3830-rocha | Camera 25] ✅ Evaluated | TP lost: 2, FP saved: 901\n",
      "[pt-talh-4750466-galo-1045 | Camera 6] ✅ Evaluated | TP lost: 1, FP saved: 1305\n",
      "[u-corbedis | Camera 5] ✅ Evaluated | TP lost: 0, FP saved: 944\n",
      "[uk-family-dd111le-fisheracre-27 | Camera 5] ✅ Evaluated | TP lost: 0, FP saved: 300\n",
      "[uk-nisa-e143hw-manchester-286 | Camera 13] ✅ Evaluated | TP lost: 7, FP saved: 3795\n",
      "[uk-spar-rg304dg-montague-1 | Camera 13] ✅ Evaluated | TP lost: 20, FP saved: 5015\n",
      "[uk-wil-l11lx-johns-112 | Camera 4] ✅ Evaluated | TP lost: 0, FP saved: 767\n",
      "[us-ace-51109-eagle-4200 | Camera 65] ✅ Evaluated | TP lost: 0, FP saved: 1750\n",
      "[us-burney-27376-trade-270 | Camera 23] ✅ Evaluated | TP lost: 0, FP saved: 3644\n",
      "\n",
      "🔚 Final Summary: Total TP Lost = 140, Total FP Saved = 77181\n"
     ]
    }
   ],
   "source": [
    "import json\n",
    "from optimizer import CameraModel, MultiCameraOptimizer\n",
    "\n",
    "# Load optimization results\n",
    "with open(\"results/optim.json\", \"r\") as f:\n",
    "    optim = json.load(f)\n",
    "\n",
    "# Normalize df columns for matching\n",
    "df[\"store\"] = df[\"store\"].astype(str).str.strip().str.lower()\n",
    "df[\"camera_id\"] = df[\"camera_id\"].astype(str).str.strip()\n",
    "\n",
    "# Group after normalization\n",
    "grouped = df.groupby([\"store\", \"camera_id\"])\n",
    "\n",
    "# Final totals\n",
    "total_tp_lost = 0\n",
    "total_fp_saved = 0\n",
    "\n",
    "# Process all cameras in optimization result\n",
    "for cam in optim.get(\"cameras_info\", []):\n",
    "    store = str(cam.get(\"store\", \"\")).strip().lower()\n",
    "    camera_id = str(cam.get(\"camera_id\", \"\")).strip()\n",
    "    threshold = cam.get(\"threshold\")\n",
    "    fp_saved = cam.get(\"fp_saved\", 0)\n",
    "    tp_lost = cam.get(\"tp_lost\", 0)\n",
    "\n",
    "    group_key = (store, camera_id)\n",
    "\n",
    "    if group_key in grouped.groups:\n",
    "        group = grouped.get_group(group_key)\n",
    "        X = group[\"probability\"].values.astype(float)\n",
    "        y = group[\"is_theft\"].values\n",
    "\n",
    "        camera = CameraModel(camera_id=camera_id, store=store)\n",
    "        camera.threshold = threshold\n",
    "        camera.eval(X, y, threshold=threshold)\n",
    "\n",
    "        total_tp_lost += tp_lost\n",
    "        total_fp_saved += fp_saved\n",
    "\n",
    "        print(f\"[{store} | Camera {camera_id}] ✅ Evaluated | TP lost: {tp_lost}, FP saved: {fp_saved}\")\n",
    "    else:\n",
    "        print(f\"[{store} | Camera {camera_id}] ⚠️  No matching data in df\")\n",
    "\n",
    "# Final summary\n",
    "print(f\"\\n🔚 Final Summary: Total TP Lost = {total_tp_lost}, Total FP Saved = {total_fp_saved}\")\n"
   ]
  },
  {
   "cell_type": "code",
   "execution_count": 6,
   "metadata": {},
   "outputs": [],
   "source": []
  },
  {
   "cell_type": "code",
   "execution_count": 12,
   "metadata": {},
   "outputs": [
    {
     "name": "stdout",
     "output_type": "stream",
     "text": [
      "[be-ad-1420-hugo-3 | Camera 10] ⚠️  No matching data in df\n",
      "[be-carr-1030-plasky-88 | Camera 6] ⚠️  No matching data in df\n",
      "[be-carr-6000-waterloo-60 | Camera 13] ⚠️  No matching data in df\n",
      "[be-inter-7500-eisenhower-14 | Camera 12] ⚠️  No matching data in df\n",
      "[be-proxy-1000-haute-221-227 | Camera 25] ⚠️  No matching data in df\n",
      "[ci-ivoire-abidjan-98 | Camera 22] ⚠️  No matching data in df\n",
      "[cz-dm-15000-plzenska-8 | Camera 6] ⚠️  No matching data in df\n",
      "[es-char-30161-mayor-199 | Camera 17] ⚠️  No matching data in df\n",
      "[es-char-46021-ros-16 | Camera 14] ⚠️  No matching data in df\n",
      "[es-condis-08912-guifre-100 | Camera 7] ⚠️  No matching data in df\n",
      "[es-mas-33207-aviles-6 | Camera 3] ⚠️  No matching data in df\n",
      "[es-spar-35480-alamo-1 | Camera 215] ⚠️  No matching data in df\n",
      "[fr-carr-13001-canebiere-80 | Camera 7] ⚠️  No matching data in df\n",
      "[fr-carr-22560-chardons | Camera 12] ⚠️  No matching data in df\n",
      "[fr-carr-61190-juchereau | Camera 11] ⚠️  No matching data in df\n",
      "[fr-carr-69530-gaulle-213 | Camera 9] ⚠️  No matching data in df\n",
      "[fr-carr-76620-joliot-150 | Camera 1] ⚠️  No matching data in df\n",
      "[fr-carr-78440-paris-23 | Camera 11] ⚠️  No matching data in df\n",
      "[fr-casino-40280-sever-600 | Camera 122] ⚠️  No matching data in df\n",
      "[fr-fprix-92100-jaures-20 | Camera 4] ⚠️  No matching data in df\n",
      "[fr-inter-38350-genepi-238 | Camera 163] ⚠️  No matching data in df\n",
      "[fr-inter-48500-lot | Camera 127] ⚠️  No matching data in df\n",
      "[fr-inter-81120-bouriotte | Camera 121] ⚠️  No matching data in df\n",
      "[fr-lecl-69009-buyer-90 | Camera 33] ⚠️  No matching data in df\n",
      "[fr-leclerc-51120-troyes | Camera 17] ⚠️  No matching data in df\n",
      "[fr-mr-brico-54300-ader-6 | Camera 19] ⚠️  No matching data in df\n",
      "[fr-sp2000-30100-hours-591 | Camera 49] ⚠️  No matching data in df\n",
      "[fr-u-83470-aix | Camera 59] ⚠️  No matching data in df\n",
      "[fr-vieclaire-38530-port-98 | Camera 61] ⚠️  No matching data in df\n",
      "[gb-cost-se42ex-mantel | Camera 23] ⚠️  No matching data in df\n",
      "[grocery-outlet-dt-san-jose | Camera 22] ⚠️  No matching data in df\n",
      "[it-euro-67051-tiburtina | Camera 3] ⚠️  No matching data in df\n",
      "[leclerc-flourdis | Camera 114] ⚠️  No matching data in df\n",
      "[nl-jumbo-6843-plein-12 | Camera 1] ⚠️  No matching data in df\n",
      "[pharma-alesia | Camera 8] ⚠️  No matching data in df\n",
      "[pt-ikea-2660001-setembro | Camera 185] ⚠️  No matching data in df\n",
      "[pt-inter-3830-rocha | Camera 25] ⚠️  No matching data in df\n",
      "[pt-talh-4750466-galo-1045 | Camera 6] ⚠️  No matching data in df\n",
      "[u-corbedis | Camera 5] ⚠️  No matching data in df\n",
      "[uk-family-dd111le-fisheracre-27 | Camera 5] ⚠️  No matching data in df\n",
      "[uk-nisa-e143hw-manchester-286 | Camera 13] ⚠️  No matching data in df\n",
      "[uk-spar-rg304dg-montague-1 | Camera 13] ⚠️  No matching data in df\n",
      "[uk-wil-l11lx-johns-112 | Camera 4] ⚠️  No matching data in df\n",
      "[us-ace-51109-eagle-4200 | Camera 65] ⚠️  No matching data in df\n",
      "[us-burney-27376-trade-270 | Camera 23] ⚠️  No matching data in df\n",
      "\n",
      "🔚 Final Summary: Total TP Lost = 0, Total FP Saved = 0\n"
     ]
    }
   ],
   "source": [
    "import json\n",
    "from optimizer import CameraModel, MultiCameraOptimizer\n",
    "\n",
    "# Load optimization results\n",
    "with open(\"results/optim.json\", \"r\") as f:\n",
    "    optim = json.load(f)\n",
    "\n",
    "grouped = df.groupby([\"store\", \"camera_id\"])\n",
    "\n",
    "# To collect final results\n",
    "total_tp_lost = 0\n",
    "total_fp_saved = 0\n",
    "\n",
    "for cam in optim.get(\"cameras_info\", []):\n",
    "    store = cam.get(\"store\")\n",
    "    camera_id = cam.get(\"camera_id\")\n",
    "    threshold = cam.get(\"threshold\")\n",
    "    fp_saved = cam.get(\"fp_saved\")\n",
    "    tp_lost = cam.get(\"tp_lost\")\n",
    "\n",
    "    # Instantiate camera model and set threshold\n",
    "    camera = CameraModel(camera_id=camera_id, store=store)\n",
    "    camera.threshold = threshold\n",
    "\n",
    "    # Get matching group from df\n",
    "    group_key = (store, camera_id)\n",
    "    if group_key in grouped.groups:\n",
    "        group = grouped.get_group(group_key)\n",
    "        X = group[\"probability\"].values.astype(float)\n",
    "        y = group[\"is_theft\"].values\n",
    "        camera.eval(X, y, threshold=threshold)\n",
    "\n",
    "        # Optionally accumulate results\n",
    "        total_tp_lost += tp_lost\n",
    "        total_fp_saved += fp_saved\n",
    "\n",
    "        print(f\"[{store} | Camera {camera_id}] ✅ Evaluated | Threshold: {threshold:.3f}, TP lost: {tp_lost}, FP saved: {fp_saved}\")\n",
    "    else:\n",
    "        print(f\"[{store} | Camera {camera_id}] ⚠️  No matching data in df\")\n",
    "\n",
    "# Print final totals\n",
    "print(f\"\\n🔚 Final Summary: Total TP Lost = {total_tp_lost}, Total FP Saved = {total_fp_saved}\")\n"
   ]
  },
  {
   "cell_type": "code",
   "execution_count": 7,
   "metadata": {},
   "outputs": [],
   "source": [
    "import json\n",
    "from optimizer import CameraModel, MultiCameraOptimizer\n",
    "\n",
    "with open(\"results/optim.json\", \"r\") as f:\n",
    "    optim = json.load(f)\n",
    "\n",
    "for cam in optim.get(\"cameras_info\"):\n",
    "    break\n",
    "\n",
    "store = cam.get(\"store\")\n",
    "camera_id = cam.get(\"camera_id\")\n",
    "threshold = cam.get(\"threshold\")\n",
    "fp_saved = cam.get(\"fp_saved\")\n",
    "tp_lost = cam.get('tp_lost')\n",
    "\n",
    "\n",
    "camera = CameraModel(camera_id=camera_id, store=store)\n",
    "camera.threshold = threshold\n",
    "\n",
    "grouped = df.groupby([\"store\", \"camera_id\"])\n",
    "\n",
    "for (store_, cam_id_), group in grouped:\n",
    "    if store_ == store:\n",
    "        print(\"ok!\")\n",
    "        X = group[\"probability\"].values.astype(float)\n",
    "        y = group[\"is_theft\"].values\n",
    "        camera.eval(X, y, threshold=threshold)\n",
    "        break\n",
    "    "
   ]
  },
  {
   "cell_type": "code",
   "execution_count": 8,
   "metadata": {},
   "outputs": [],
   "source": []
  },
  {
   "cell_type": "code",
   "execution_count": null,
   "metadata": {},
   "outputs": [
    {
     "name": "stdout",
     "output_type": "stream",
     "text": [
      "ok!\n"
     ]
    }
   ],
   "source": [
    "\n",
    "\n"
   ]
  },
  {
   "cell_type": "code",
   "execution_count": 10,
   "metadata": {},
   "outputs": [
    {
     "data": {
      "text/plain": [
       "(np.int64(28), np.int64(1579))"
      ]
     },
     "execution_count": 10,
     "metadata": {},
     "output_type": "execute_result"
    }
   ],
   "source": [
    "camera._compute_tp_fp(X, y, threshold=threshold)"
   ]
  },
  {
   "cell_type": "code",
   "execution_count": 11,
   "metadata": {},
   "outputs": [
    {
     "data": {
      "text/plain": [
       "{'store': 'be-ad-1420-hugo-3',\n",
       " 'camera_id': '10',\n",
       " 'threshold': 0.22448979591836732,\n",
       " 'baseline_tp': 29,\n",
       " 'baseline_fp': 2087,\n",
       " 'eval_tp': 28,\n",
       " 'eval_fp': 1579,\n",
       " 'tp_lost': 1,\n",
       " 'fp_saved': 508}"
      ]
     },
     "execution_count": 11,
     "metadata": {},
     "output_type": "execute_result"
    }
   ],
   "source": []
  },
  {
   "cell_type": "code",
   "execution_count": null,
   "metadata": {},
   "outputs": [],
   "source": []
  },
  {
   "cell_type": "code",
   "execution_count": null,
   "metadata": {},
   "outputs": [],
   "source": []
  },
  {
   "cell_type": "code",
   "execution_count": null,
   "metadata": {},
   "outputs": [],
   "source": []
  }
 ],
 "metadata": {
  "kernelspec": {
   "display_name": "challenge-veesion-venv",
   "language": "python",
   "name": "python3"
  },
  "language_info": {
   "codemirror_mode": {
    "name": "ipython",
    "version": 3
   },
   "file_extension": ".py",
   "mimetype": "text/x-python",
   "name": "python",
   "nbconvert_exporter": "python",
   "pygments_lexer": "ipython3",
   "version": "3.12.8"
  }
 },
 "nbformat": 4,
 "nbformat_minor": 2
}
