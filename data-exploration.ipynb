{
 "cells": [
  {
   "cell_type": "markdown",
   "metadata": {},
   "source": [
    "# Veesion Data Science Challenge\n",
    "Nelson Fernandez \n",
    "\n",
    "### Context\n",
    "Veesion delivers a full AI video analytics solution for detecting shoplifting, serving clients in over 40 countries. What makes Veesion different to other companies is that their AI model plugs into the existing DRVs and IP cameras of the clients reducing the set up costs. As a consequence, Veesion's AI action recognition model must robustly handle videos of different qualities, across a wide range of environments, traffic levels, and event types.\n",
    "\n",
    "### Goal\n",
    "To provide an excellent quality of service, the Veesion AI team aims to minimize the number of false alerts while missing as few theft events as possible. Achieving this balance is essential for delivering strong ROI to clients and maintaining operator trust in the system.\n",
    "\n",
    "### Scope\n",
    "* As this is a 3h excercise, I'll code the most essential parts of the system, and provide recommendations for a follow up.\n",
    "* I'll keep my code as suitable as possible for deployment: Modular and maintainable with classes & base models, stateles (ideal for interacting with different data inputs) and an easy CLI calling with basic loggin.\n",
    "* I'll assume the thefts were detected and are available in the provided event .CSV.\n",
    "* I'll treat the multi-class classification model as binary, eventthough this would **skyrocket the number of #FP** in a production environment."
   ]
  },
  {
   "cell_type": "code",
   "execution_count": null,
   "metadata": {
    "vscode": {
     "languageId": "plaintext"
    }
   },
   "outputs": [],
   "source": []
  }
 ],
 "metadata": {
  "language_info": {
   "name": "python"
  }
 },
 "nbformat": 4,
 "nbformat_minor": 2
}
